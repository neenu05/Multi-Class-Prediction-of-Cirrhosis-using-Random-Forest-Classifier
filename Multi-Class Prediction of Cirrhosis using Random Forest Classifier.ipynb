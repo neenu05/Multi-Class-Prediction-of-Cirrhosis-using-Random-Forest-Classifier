{
 "cells": [
  {
   "cell_type": "markdown",
   "metadata": {},
   "source": [
    "<a href=\"https://www.kaggle.com/code/neenues/multi-class-prediction-of-cirrhosis-score-0-468\" target=\"_blank\"><img align=\"left\" alt=\"Kaggle\" title=\"Open in Kaggle\" src=\"https://kaggle.com/static/images/open-in-kaggle.svg\"></a>"
   ]
  },
  {
   "cell_type": "markdown",
   "metadata": {},
   "source": [
    "# [Multi-Class Prediction of Cirrhosis](https://www.kaggle.com/competitions/playground-series-s3e26)\n",
    "### Playground Series - Season 3, Episode 26.\n",
    "_______________________________________________________________________ \n",
    "# Author Details:\n",
    "- Name: Neenu E S\n",
    "- Profiles: [Github](https://github.com/neenu05) | [LinkedIn](https://www.linkedin.com/in/neenues/) | [Kaggle](https://www.kaggle.com/neenues)\n",
    "- Prepared for the submission to the competition.\n",
    "________________________________________________________________________\n",
    "# Attributions:\n",
    "[Walter Reade, Ashley Chow. (2023). Multi-Class Prediction of Cirrhosis Outcomes. Kaggle.](https://kaggle.com/competitions/playground-series-s3e26)\n",
    "__________________________________________________________________________\n",
    "# Code Execution : \n",
    "- [Execute the notebook in Kaggle](https://www.kaggle.com/code/neenues/multi-class-prediction-of-cirrhosis-score-0-468/edit/run/157941775)"
   ]
  },
  {
   "cell_type": "code",
   "execution_count": 18,
   "metadata": {
    "execution": {
     "iopub.execute_input": "2023-12-29T19:19:20.413031Z",
     "iopub.status.busy": "2023-12-29T19:19:20.412538Z",
     "iopub.status.idle": "2023-12-29T19:19:20.420977Z",
     "shell.execute_reply": "2023-12-29T19:19:20.419682Z",
     "shell.execute_reply.started": "2023-12-29T19:19:20.412989Z"
    }
   },
   "outputs": [],
   "source": [
    "import numpy as np\n",
    "import pandas as pd\n",
    "import seaborn as sns\n",
    "import matplotlib.pylab as plt\n",
    "import seaborn as sns\n",
    "plt.style.use('ggplot')\n",
    "\n",
    "from sklearn.preprocessing import StandardScaler\n",
    "from sklearn.preprocessing import LabelEncoder\n",
    "from sklearn.ensemble import RandomForestClassifier\n",
    "from sklearn.metrics import accuracy_score, log_loss"
   ]
  },
  {
   "cell_type": "code",
   "execution_count": 2,
   "metadata": {
    "execution": {
     "iopub.execute_input": "2023-12-29T19:19:20.423558Z",
     "iopub.status.busy": "2023-12-29T19:19:20.423158Z",
     "iopub.status.idle": "2023-12-29T19:19:20.485476Z",
     "shell.execute_reply": "2023-12-29T19:19:20.484343Z",
     "shell.execute_reply.started": "2023-12-29T19:19:20.423528Z"
    }
   },
   "outputs": [
    {
     "data": {
      "text/html": [
       "<div>\n",
       "<style scoped>\n",
       "    .dataframe tbody tr th:only-of-type {\n",
       "        vertical-align: middle;\n",
       "    }\n",
       "\n",
       "    .dataframe tbody tr th {\n",
       "        vertical-align: top;\n",
       "    }\n",
       "\n",
       "    .dataframe thead th {\n",
       "        text-align: right;\n",
       "    }\n",
       "</style>\n",
       "<table border=\"1\" class=\"dataframe\">\n",
       "  <thead>\n",
       "    <tr style=\"text-align: right;\">\n",
       "      <th></th>\n",
       "      <th>id</th>\n",
       "      <th>N_Days</th>\n",
       "      <th>Drug</th>\n",
       "      <th>Age</th>\n",
       "      <th>Sex</th>\n",
       "      <th>Ascites</th>\n",
       "      <th>Hepatomegaly</th>\n",
       "      <th>Spiders</th>\n",
       "      <th>Edema</th>\n",
       "      <th>Bilirubin</th>\n",
       "      <th>Cholesterol</th>\n",
       "      <th>Albumin</th>\n",
       "      <th>Copper</th>\n",
       "      <th>Alk_Phos</th>\n",
       "      <th>SGOT</th>\n",
       "      <th>Tryglicerides</th>\n",
       "      <th>Platelets</th>\n",
       "      <th>Prothrombin</th>\n",
       "      <th>Stage</th>\n",
       "      <th>Status</th>\n",
       "    </tr>\n",
       "  </thead>\n",
       "  <tbody>\n",
       "    <tr>\n",
       "      <th>0</th>\n",
       "      <td>0</td>\n",
       "      <td>999</td>\n",
       "      <td>D-penicillamine</td>\n",
       "      <td>21532</td>\n",
       "      <td>M</td>\n",
       "      <td>N</td>\n",
       "      <td>N</td>\n",
       "      <td>N</td>\n",
       "      <td>N</td>\n",
       "      <td>2.3</td>\n",
       "      <td>316.0</td>\n",
       "      <td>3.35</td>\n",
       "      <td>172.0</td>\n",
       "      <td>1601.0</td>\n",
       "      <td>179.80</td>\n",
       "      <td>63.0</td>\n",
       "      <td>394.0</td>\n",
       "      <td>9.7</td>\n",
       "      <td>3.0</td>\n",
       "      <td>D</td>\n",
       "    </tr>\n",
       "    <tr>\n",
       "      <th>1</th>\n",
       "      <td>1</td>\n",
       "      <td>2574</td>\n",
       "      <td>Placebo</td>\n",
       "      <td>19237</td>\n",
       "      <td>F</td>\n",
       "      <td>N</td>\n",
       "      <td>N</td>\n",
       "      <td>N</td>\n",
       "      <td>N</td>\n",
       "      <td>0.9</td>\n",
       "      <td>364.0</td>\n",
       "      <td>3.54</td>\n",
       "      <td>63.0</td>\n",
       "      <td>1440.0</td>\n",
       "      <td>134.85</td>\n",
       "      <td>88.0</td>\n",
       "      <td>361.0</td>\n",
       "      <td>11.0</td>\n",
       "      <td>3.0</td>\n",
       "      <td>C</td>\n",
       "    </tr>\n",
       "    <tr>\n",
       "      <th>2</th>\n",
       "      <td>2</td>\n",
       "      <td>3428</td>\n",
       "      <td>Placebo</td>\n",
       "      <td>13727</td>\n",
       "      <td>F</td>\n",
       "      <td>N</td>\n",
       "      <td>Y</td>\n",
       "      <td>Y</td>\n",
       "      <td>Y</td>\n",
       "      <td>3.3</td>\n",
       "      <td>299.0</td>\n",
       "      <td>3.55</td>\n",
       "      <td>131.0</td>\n",
       "      <td>1029.0</td>\n",
       "      <td>119.35</td>\n",
       "      <td>50.0</td>\n",
       "      <td>199.0</td>\n",
       "      <td>11.7</td>\n",
       "      <td>4.0</td>\n",
       "      <td>D</td>\n",
       "    </tr>\n",
       "    <tr>\n",
       "      <th>3</th>\n",
       "      <td>3</td>\n",
       "      <td>2576</td>\n",
       "      <td>Placebo</td>\n",
       "      <td>18460</td>\n",
       "      <td>F</td>\n",
       "      <td>N</td>\n",
       "      <td>N</td>\n",
       "      <td>N</td>\n",
       "      <td>N</td>\n",
       "      <td>0.6</td>\n",
       "      <td>256.0</td>\n",
       "      <td>3.50</td>\n",
       "      <td>58.0</td>\n",
       "      <td>1653.0</td>\n",
       "      <td>71.30</td>\n",
       "      <td>96.0</td>\n",
       "      <td>269.0</td>\n",
       "      <td>10.7</td>\n",
       "      <td>3.0</td>\n",
       "      <td>C</td>\n",
       "    </tr>\n",
       "    <tr>\n",
       "      <th>4</th>\n",
       "      <td>4</td>\n",
       "      <td>788</td>\n",
       "      <td>Placebo</td>\n",
       "      <td>16658</td>\n",
       "      <td>F</td>\n",
       "      <td>N</td>\n",
       "      <td>Y</td>\n",
       "      <td>N</td>\n",
       "      <td>N</td>\n",
       "      <td>1.1</td>\n",
       "      <td>346.0</td>\n",
       "      <td>3.65</td>\n",
       "      <td>63.0</td>\n",
       "      <td>1181.0</td>\n",
       "      <td>125.55</td>\n",
       "      <td>96.0</td>\n",
       "      <td>298.0</td>\n",
       "      <td>10.6</td>\n",
       "      <td>4.0</td>\n",
       "      <td>C</td>\n",
       "    </tr>\n",
       "  </tbody>\n",
       "</table>\n",
       "</div>"
      ],
      "text/plain": [
       "   id  N_Days             Drug    Age Sex Ascites Hepatomegaly Spiders Edema  \\\n",
       "0   0     999  D-penicillamine  21532   M       N            N       N     N   \n",
       "1   1    2574          Placebo  19237   F       N            N       N     N   \n",
       "2   2    3428          Placebo  13727   F       N            Y       Y     Y   \n",
       "3   3    2576          Placebo  18460   F       N            N       N     N   \n",
       "4   4     788          Placebo  16658   F       N            Y       N     N   \n",
       "\n",
       "   Bilirubin  Cholesterol  Albumin  Copper  Alk_Phos    SGOT  Tryglicerides  \\\n",
       "0        2.3        316.0     3.35   172.0    1601.0  179.80           63.0   \n",
       "1        0.9        364.0     3.54    63.0    1440.0  134.85           88.0   \n",
       "2        3.3        299.0     3.55   131.0    1029.0  119.35           50.0   \n",
       "3        0.6        256.0     3.50    58.0    1653.0   71.30           96.0   \n",
       "4        1.1        346.0     3.65    63.0    1181.0  125.55           96.0   \n",
       "\n",
       "   Platelets  Prothrombin  Stage Status  \n",
       "0      394.0          9.7    3.0      D  \n",
       "1      361.0         11.0    3.0      C  \n",
       "2      199.0         11.7    4.0      D  \n",
       "3      269.0         10.7    3.0      C  \n",
       "4      298.0         10.6    4.0      C  "
      ]
     },
     "execution_count": 2,
     "metadata": {},
     "output_type": "execute_result"
    }
   ],
   "source": [
    "data_train =  pd.read_csv('train.csv')\n",
    "data_train.head()"
   ]
  },
  {
   "cell_type": "code",
   "execution_count": 3,
   "metadata": {
    "execution": {
     "iopub.execute_input": "2023-12-29T19:19:20.487808Z",
     "iopub.status.busy": "2023-12-29T19:19:20.487317Z",
     "iopub.status.idle": "2023-12-29T19:19:20.506384Z",
     "shell.execute_reply": "2023-12-29T19:19:20.504899Z",
     "shell.execute_reply.started": "2023-12-29T19:19:20.487762Z"
    },
    "scrolled": true
   },
   "outputs": [
    {
     "data": {
      "text/plain": [
       "id               0\n",
       "N_Days           0\n",
       "Drug             0\n",
       "Age              0\n",
       "Sex              0\n",
       "Ascites          0\n",
       "Hepatomegaly     0\n",
       "Spiders          0\n",
       "Edema            0\n",
       "Bilirubin        0\n",
       "Cholesterol      0\n",
       "Albumin          0\n",
       "Copper           0\n",
       "Alk_Phos         0\n",
       "SGOT             0\n",
       "Tryglicerides    0\n",
       "Platelets        0\n",
       "Prothrombin      0\n",
       "Stage            0\n",
       "Status           0\n",
       "dtype: int64"
      ]
     },
     "execution_count": 3,
     "metadata": {},
     "output_type": "execute_result"
    }
   ],
   "source": [
    "data_train.isnull().sum()  ## no null values"
   ]
  },
  {
   "cell_type": "code",
   "execution_count": 4,
   "metadata": {
    "execution": {
     "iopub.execute_input": "2023-12-29T19:19:20.510219Z",
     "iopub.status.busy": "2023-12-29T19:19:20.509432Z",
     "iopub.status.idle": "2023-12-29T19:19:20.557702Z",
     "shell.execute_reply": "2023-12-29T19:19:20.556424Z",
     "shell.execute_reply.started": "2023-12-29T19:19:20.510178Z"
    },
    "scrolled": true
   },
   "outputs": [
    {
     "data": {
      "text/html": [
       "<div>\n",
       "<style scoped>\n",
       "    .dataframe tbody tr th:only-of-type {\n",
       "        vertical-align: middle;\n",
       "    }\n",
       "\n",
       "    .dataframe tbody tr th {\n",
       "        vertical-align: top;\n",
       "    }\n",
       "\n",
       "    .dataframe thead th {\n",
       "        text-align: right;\n",
       "    }\n",
       "</style>\n",
       "<table border=\"1\" class=\"dataframe\">\n",
       "  <thead>\n",
       "    <tr style=\"text-align: right;\">\n",
       "      <th></th>\n",
       "      <th>id</th>\n",
       "      <th>N_Days</th>\n",
       "      <th>Drug</th>\n",
       "      <th>Age</th>\n",
       "      <th>Sex</th>\n",
       "      <th>Ascites</th>\n",
       "      <th>Hepatomegaly</th>\n",
       "      <th>Spiders</th>\n",
       "      <th>Edema</th>\n",
       "      <th>Bilirubin</th>\n",
       "      <th>Cholesterol</th>\n",
       "      <th>Albumin</th>\n",
       "      <th>Copper</th>\n",
       "      <th>Alk_Phos</th>\n",
       "      <th>SGOT</th>\n",
       "      <th>Tryglicerides</th>\n",
       "      <th>Platelets</th>\n",
       "      <th>Prothrombin</th>\n",
       "      <th>Stage</th>\n",
       "    </tr>\n",
       "  </thead>\n",
       "  <tbody>\n",
       "    <tr>\n",
       "      <th>0</th>\n",
       "      <td>7905</td>\n",
       "      <td>3839</td>\n",
       "      <td>D-penicillamine</td>\n",
       "      <td>19724</td>\n",
       "      <td>F</td>\n",
       "      <td>N</td>\n",
       "      <td>Y</td>\n",
       "      <td>N</td>\n",
       "      <td>N</td>\n",
       "      <td>1.2</td>\n",
       "      <td>546.0</td>\n",
       "      <td>3.37</td>\n",
       "      <td>65.0</td>\n",
       "      <td>1636.0</td>\n",
       "      <td>151.90</td>\n",
       "      <td>90.0</td>\n",
       "      <td>430.0</td>\n",
       "      <td>10.6</td>\n",
       "      <td>2.0</td>\n",
       "    </tr>\n",
       "    <tr>\n",
       "      <th>1</th>\n",
       "      <td>7906</td>\n",
       "      <td>2468</td>\n",
       "      <td>D-penicillamine</td>\n",
       "      <td>14975</td>\n",
       "      <td>F</td>\n",
       "      <td>N</td>\n",
       "      <td>N</td>\n",
       "      <td>N</td>\n",
       "      <td>N</td>\n",
       "      <td>1.1</td>\n",
       "      <td>660.0</td>\n",
       "      <td>4.22</td>\n",
       "      <td>94.0</td>\n",
       "      <td>1257.0</td>\n",
       "      <td>151.90</td>\n",
       "      <td>155.0</td>\n",
       "      <td>227.0</td>\n",
       "      <td>10.0</td>\n",
       "      <td>2.0</td>\n",
       "    </tr>\n",
       "    <tr>\n",
       "      <th>2</th>\n",
       "      <td>7907</td>\n",
       "      <td>51</td>\n",
       "      <td>Placebo</td>\n",
       "      <td>13149</td>\n",
       "      <td>F</td>\n",
       "      <td>N</td>\n",
       "      <td>Y</td>\n",
       "      <td>N</td>\n",
       "      <td>Y</td>\n",
       "      <td>2.0</td>\n",
       "      <td>151.0</td>\n",
       "      <td>2.96</td>\n",
       "      <td>46.0</td>\n",
       "      <td>961.0</td>\n",
       "      <td>69.75</td>\n",
       "      <td>101.0</td>\n",
       "      <td>213.0</td>\n",
       "      <td>13.0</td>\n",
       "      <td>4.0</td>\n",
       "    </tr>\n",
       "    <tr>\n",
       "      <th>3</th>\n",
       "      <td>7908</td>\n",
       "      <td>2330</td>\n",
       "      <td>D-penicillamine</td>\n",
       "      <td>20510</td>\n",
       "      <td>F</td>\n",
       "      <td>N</td>\n",
       "      <td>N</td>\n",
       "      <td>N</td>\n",
       "      <td>N</td>\n",
       "      <td>0.6</td>\n",
       "      <td>293.0</td>\n",
       "      <td>3.85</td>\n",
       "      <td>40.0</td>\n",
       "      <td>554.0</td>\n",
       "      <td>125.55</td>\n",
       "      <td>56.0</td>\n",
       "      <td>270.0</td>\n",
       "      <td>10.6</td>\n",
       "      <td>2.0</td>\n",
       "    </tr>\n",
       "    <tr>\n",
       "      <th>4</th>\n",
       "      <td>7909</td>\n",
       "      <td>1615</td>\n",
       "      <td>D-penicillamine</td>\n",
       "      <td>21904</td>\n",
       "      <td>F</td>\n",
       "      <td>N</td>\n",
       "      <td>Y</td>\n",
       "      <td>N</td>\n",
       "      <td>N</td>\n",
       "      <td>1.4</td>\n",
       "      <td>277.0</td>\n",
       "      <td>2.97</td>\n",
       "      <td>121.0</td>\n",
       "      <td>1110.0</td>\n",
       "      <td>125.00</td>\n",
       "      <td>126.0</td>\n",
       "      <td>221.0</td>\n",
       "      <td>9.8</td>\n",
       "      <td>1.0</td>\n",
       "    </tr>\n",
       "  </tbody>\n",
       "</table>\n",
       "</div>"
      ],
      "text/plain": [
       "     id  N_Days             Drug    Age Sex Ascites Hepatomegaly Spiders  \\\n",
       "0  7905    3839  D-penicillamine  19724   F       N            Y       N   \n",
       "1  7906    2468  D-penicillamine  14975   F       N            N       N   \n",
       "2  7907      51          Placebo  13149   F       N            Y       N   \n",
       "3  7908    2330  D-penicillamine  20510   F       N            N       N   \n",
       "4  7909    1615  D-penicillamine  21904   F       N            Y       N   \n",
       "\n",
       "  Edema  Bilirubin  Cholesterol  Albumin  Copper  Alk_Phos    SGOT  \\\n",
       "0     N        1.2        546.0     3.37    65.0    1636.0  151.90   \n",
       "1     N        1.1        660.0     4.22    94.0    1257.0  151.90   \n",
       "2     Y        2.0        151.0     2.96    46.0     961.0   69.75   \n",
       "3     N        0.6        293.0     3.85    40.0     554.0  125.55   \n",
       "4     N        1.4        277.0     2.97   121.0    1110.0  125.00   \n",
       "\n",
       "   Tryglicerides  Platelets  Prothrombin  Stage  \n",
       "0           90.0      430.0         10.6    2.0  \n",
       "1          155.0      227.0         10.0    2.0  \n",
       "2          101.0      213.0         13.0    4.0  \n",
       "3           56.0      270.0         10.6    2.0  \n",
       "4          126.0      221.0          9.8    1.0  "
      ]
     },
     "execution_count": 4,
     "metadata": {},
     "output_type": "execute_result"
    }
   ],
   "source": [
    "data_test =  pd.read_csv('test.csv')\n",
    "data_test.head()"
   ]
  },
  {
   "cell_type": "code",
   "execution_count": 5,
   "metadata": {
    "execution": {
     "iopub.execute_input": "2023-12-29T19:19:20.560121Z",
     "iopub.status.busy": "2023-12-29T19:19:20.559573Z",
     "iopub.status.idle": "2023-12-29T19:19:20.621331Z",
     "shell.execute_reply": "2023-12-29T19:19:20.620059Z",
     "shell.execute_reply.started": "2023-12-29T19:19:20.560076Z"
    },
    "scrolled": true
   },
   "outputs": [
    {
     "data": {
      "text/html": [
       "<div>\n",
       "<style scoped>\n",
       "    .dataframe tbody tr th:only-of-type {\n",
       "        vertical-align: middle;\n",
       "    }\n",
       "\n",
       "    .dataframe tbody tr th {\n",
       "        vertical-align: top;\n",
       "    }\n",
       "\n",
       "    .dataframe thead th {\n",
       "        text-align: right;\n",
       "    }\n",
       "</style>\n",
       "<table border=\"1\" class=\"dataframe\">\n",
       "  <thead>\n",
       "    <tr style=\"text-align: right;\">\n",
       "      <th></th>\n",
       "      <th>count</th>\n",
       "      <th>mean</th>\n",
       "      <th>std</th>\n",
       "      <th>min</th>\n",
       "      <th>25%</th>\n",
       "      <th>50%</th>\n",
       "      <th>75%</th>\n",
       "      <th>max</th>\n",
       "    </tr>\n",
       "  </thead>\n",
       "  <tbody>\n",
       "    <tr>\n",
       "      <th>id</th>\n",
       "      <td>7905.0</td>\n",
       "      <td>3952.000000</td>\n",
       "      <td>2282.121272</td>\n",
       "      <td>0.00</td>\n",
       "      <td>1976.00</td>\n",
       "      <td>3952.00</td>\n",
       "      <td>5928.00</td>\n",
       "      <td>7904.00</td>\n",
       "    </tr>\n",
       "    <tr>\n",
       "      <th>N_Days</th>\n",
       "      <td>7905.0</td>\n",
       "      <td>2030.173308</td>\n",
       "      <td>1094.233744</td>\n",
       "      <td>41.00</td>\n",
       "      <td>1230.00</td>\n",
       "      <td>1831.00</td>\n",
       "      <td>2689.00</td>\n",
       "      <td>4795.00</td>\n",
       "    </tr>\n",
       "    <tr>\n",
       "      <th>Age</th>\n",
       "      <td>7905.0</td>\n",
       "      <td>18373.146490</td>\n",
       "      <td>3679.958739</td>\n",
       "      <td>9598.00</td>\n",
       "      <td>15574.00</td>\n",
       "      <td>18713.00</td>\n",
       "      <td>20684.00</td>\n",
       "      <td>28650.00</td>\n",
       "    </tr>\n",
       "    <tr>\n",
       "      <th>Bilirubin</th>\n",
       "      <td>7905.0</td>\n",
       "      <td>2.594485</td>\n",
       "      <td>3.812960</td>\n",
       "      <td>0.30</td>\n",
       "      <td>0.70</td>\n",
       "      <td>1.10</td>\n",
       "      <td>3.00</td>\n",
       "      <td>28.00</td>\n",
       "    </tr>\n",
       "    <tr>\n",
       "      <th>Cholesterol</th>\n",
       "      <td>7905.0</td>\n",
       "      <td>350.561923</td>\n",
       "      <td>195.379344</td>\n",
       "      <td>120.00</td>\n",
       "      <td>248.00</td>\n",
       "      <td>298.00</td>\n",
       "      <td>390.00</td>\n",
       "      <td>1775.00</td>\n",
       "    </tr>\n",
       "    <tr>\n",
       "      <th>Albumin</th>\n",
       "      <td>7905.0</td>\n",
       "      <td>3.548323</td>\n",
       "      <td>0.346171</td>\n",
       "      <td>1.96</td>\n",
       "      <td>3.35</td>\n",
       "      <td>3.58</td>\n",
       "      <td>3.77</td>\n",
       "      <td>4.64</td>\n",
       "    </tr>\n",
       "    <tr>\n",
       "      <th>Copper</th>\n",
       "      <td>7905.0</td>\n",
       "      <td>83.902846</td>\n",
       "      <td>75.899266</td>\n",
       "      <td>4.00</td>\n",
       "      <td>39.00</td>\n",
       "      <td>63.00</td>\n",
       "      <td>102.00</td>\n",
       "      <td>588.00</td>\n",
       "    </tr>\n",
       "    <tr>\n",
       "      <th>Alk_Phos</th>\n",
       "      <td>7905.0</td>\n",
       "      <td>1816.745250</td>\n",
       "      <td>1903.750657</td>\n",
       "      <td>289.00</td>\n",
       "      <td>834.00</td>\n",
       "      <td>1181.00</td>\n",
       "      <td>1857.00</td>\n",
       "      <td>13862.40</td>\n",
       "    </tr>\n",
       "    <tr>\n",
       "      <th>SGOT</th>\n",
       "      <td>7905.0</td>\n",
       "      <td>114.604602</td>\n",
       "      <td>48.790945</td>\n",
       "      <td>26.35</td>\n",
       "      <td>75.95</td>\n",
       "      <td>108.50</td>\n",
       "      <td>137.95</td>\n",
       "      <td>457.25</td>\n",
       "    </tr>\n",
       "    <tr>\n",
       "      <th>Tryglicerides</th>\n",
       "      <td>7905.0</td>\n",
       "      <td>115.340164</td>\n",
       "      <td>52.530402</td>\n",
       "      <td>33.00</td>\n",
       "      <td>84.00</td>\n",
       "      <td>104.00</td>\n",
       "      <td>139.00</td>\n",
       "      <td>598.00</td>\n",
       "    </tr>\n",
       "    <tr>\n",
       "      <th>Platelets</th>\n",
       "      <td>7905.0</td>\n",
       "      <td>265.228969</td>\n",
       "      <td>87.465579</td>\n",
       "      <td>62.00</td>\n",
       "      <td>211.00</td>\n",
       "      <td>265.00</td>\n",
       "      <td>316.00</td>\n",
       "      <td>563.00</td>\n",
       "    </tr>\n",
       "    <tr>\n",
       "      <th>Prothrombin</th>\n",
       "      <td>7905.0</td>\n",
       "      <td>10.629462</td>\n",
       "      <td>0.781735</td>\n",
       "      <td>9.00</td>\n",
       "      <td>10.00</td>\n",
       "      <td>10.60</td>\n",
       "      <td>11.00</td>\n",
       "      <td>18.00</td>\n",
       "    </tr>\n",
       "    <tr>\n",
       "      <th>Stage</th>\n",
       "      <td>7905.0</td>\n",
       "      <td>3.032511</td>\n",
       "      <td>0.866511</td>\n",
       "      <td>1.00</td>\n",
       "      <td>2.00</td>\n",
       "      <td>3.00</td>\n",
       "      <td>4.00</td>\n",
       "      <td>4.00</td>\n",
       "    </tr>\n",
       "  </tbody>\n",
       "</table>\n",
       "</div>"
      ],
      "text/plain": [
       "                count          mean          std      min       25%       50%  \\\n",
       "id             7905.0   3952.000000  2282.121272     0.00   1976.00   3952.00   \n",
       "N_Days         7905.0   2030.173308  1094.233744    41.00   1230.00   1831.00   \n",
       "Age            7905.0  18373.146490  3679.958739  9598.00  15574.00  18713.00   \n",
       "Bilirubin      7905.0      2.594485     3.812960     0.30      0.70      1.10   \n",
       "Cholesterol    7905.0    350.561923   195.379344   120.00    248.00    298.00   \n",
       "Albumin        7905.0      3.548323     0.346171     1.96      3.35      3.58   \n",
       "Copper         7905.0     83.902846    75.899266     4.00     39.00     63.00   \n",
       "Alk_Phos       7905.0   1816.745250  1903.750657   289.00    834.00   1181.00   \n",
       "SGOT           7905.0    114.604602    48.790945    26.35     75.95    108.50   \n",
       "Tryglicerides  7905.0    115.340164    52.530402    33.00     84.00    104.00   \n",
       "Platelets      7905.0    265.228969    87.465579    62.00    211.00    265.00   \n",
       "Prothrombin    7905.0     10.629462     0.781735     9.00     10.00     10.60   \n",
       "Stage          7905.0      3.032511     0.866511     1.00      2.00      3.00   \n",
       "\n",
       "                    75%       max  \n",
       "id              5928.00   7904.00  \n",
       "N_Days          2689.00   4795.00  \n",
       "Age            20684.00  28650.00  \n",
       "Bilirubin          3.00     28.00  \n",
       "Cholesterol      390.00   1775.00  \n",
       "Albumin            3.77      4.64  \n",
       "Copper           102.00    588.00  \n",
       "Alk_Phos        1857.00  13862.40  \n",
       "SGOT             137.95    457.25  \n",
       "Tryglicerides    139.00    598.00  \n",
       "Platelets        316.00    563.00  \n",
       "Prothrombin       11.00     18.00  \n",
       "Stage              4.00      4.00  "
      ]
     },
     "execution_count": 5,
     "metadata": {},
     "output_type": "execute_result"
    }
   ],
   "source": [
    "#Checking the dataset description\n",
    "describe = data_train.describe()\n",
    "describe.transpose()"
   ]
  },
  {
   "cell_type": "code",
   "execution_count": 6,
   "metadata": {
    "execution": {
     "iopub.execute_input": "2023-12-29T19:19:20.623282Z",
     "iopub.status.busy": "2023-12-29T19:19:20.622804Z",
     "iopub.status.idle": "2023-12-29T19:19:20.864110Z",
     "shell.execute_reply": "2023-12-29T19:19:20.862932Z",
     "shell.execute_reply.started": "2023-12-29T19:19:20.623249Z"
    }
   },
   "outputs": [
    {
     "name": "stdout",
     "output_type": "stream",
     "text": [
      "Status\n",
      "C     4965\n",
      "D     2665\n",
      "CL     275\n",
      "Name: count, dtype: int64\n"
     ]
    },
    {
     "data": {
      "image/png": "[encoded data removed]",
      "text/plain": [
       "<Figure size 300x300 with 1 Axes>"
      ]
     },
     "metadata": {},
     "output_type": "display_data"
    }
   ],
   "source": [
    "cirrhosis_counts = data_train['Status'].value_counts()\n",
    "print(cirrhosis_counts)\n",
    "fig, ax = plt.subplots(figsize=(3, 3))\n",
    "fig = sns.barplot(x= cirrhosis_counts.index, y= cirrhosis_counts.values, ax=ax)"
   ]
  },
  {
   "cell_type": "markdown",
   "metadata": {},
   "source": [
    "    C (censored) indicates the patient was alive at N_Days.\n",
    "    D indicates the patient was deceased at N_Days.\n",
    "    CL indicates the patient was alive at N_Days due to liver a transplant."
   ]
  },
  {
   "cell_type": "code",
   "execution_count": 7,
   "metadata": {
    "execution": {
     "iopub.execute_input": "2023-12-29T19:19:20.866733Z",
     "iopub.status.busy": "2023-12-29T19:19:20.865702Z",
     "iopub.status.idle": "2023-12-29T19:19:20.885402Z",
     "shell.execute_reply": "2023-12-29T19:19:20.884184Z",
     "shell.execute_reply.started": "2023-12-29T19:19:20.866689Z"
    }
   },
   "outputs": [],
   "source": [
    "X=data_train.iloc[:,1:-1].values #  first and last columns not inculded\n",
    "y=data_train.iloc[:,-1].values  # only last - target\n",
    "\n",
    "X_test=data_test.iloc[:,1:].values  # only first column not inculded  "
   ]
  },
  {
   "cell_type": "code",
   "execution_count": 8,
   "metadata": {
    "execution": {
     "iopub.execute_input": "2023-12-29T19:19:20.887434Z",
     "iopub.status.busy": "2023-12-29T19:19:20.887046Z",
     "iopub.status.idle": "2023-12-29T19:19:21.002932Z",
     "shell.execute_reply": "2023-12-29T19:19:21.001638Z",
     "shell.execute_reply.started": "2023-12-29T19:19:20.887404Z"
    }
   },
   "outputs": [],
   "source": [
    "## convert to numberical values\n",
    "for i in range(X.shape[1]):\n",
    "    label_encoder = LabelEncoder()\n",
    "    X_test[:,i] = label_encoder.fit_transform(X_test[:, i])\n",
    "    X[:,i] = label_encoder.fit_transform(X[:, i])\n",
    "    "
   ]
  },
  {
   "cell_type": "code",
   "execution_count": 9,
   "metadata": {
    "execution": {
     "iopub.execute_input": "2023-12-29T19:19:21.004563Z",
     "iopub.status.busy": "2023-12-29T19:19:21.004240Z",
     "iopub.status.idle": "2023-12-29T19:19:21.012952Z",
     "shell.execute_reply": "2023-12-29T19:19:21.011512Z",
     "shell.execute_reply.started": "2023-12-29T19:19:21.004536Z"
    }
   },
   "outputs": [],
   "source": [
    "label_encoder = LabelEncoder()\n",
    "y = label_encoder.fit_transform(y)"
   ]
  },
  {
   "cell_type": "code",
   "execution_count": 10,
   "metadata": {
    "execution": {
     "iopub.execute_input": "2023-12-29T19:19:21.017539Z",
     "iopub.status.busy": "2023-12-29T19:19:21.017020Z",
     "iopub.status.idle": "2023-12-29T19:19:21.063355Z",
     "shell.execute_reply": "2023-12-29T19:19:21.062380Z",
     "shell.execute_reply.started": "2023-12-29T19:19:21.017503Z"
    }
   },
   "outputs": [],
   "source": [
    "sc = StandardScaler()\n",
    "X = sc.fit_transform(X[:,1:])\n",
    "X_test = sc.transform(X_test[:,1:])"
   ]
  },
  {
   "cell_type": "code",
   "execution_count": 11,
   "metadata": {
    "execution": {
     "iopub.execute_input": "2023-12-29T19:19:21.065438Z",
     "iopub.status.busy": "2023-12-29T19:19:21.064579Z",
     "iopub.status.idle": "2023-12-29T19:19:24.135604Z",
     "shell.execute_reply": "2023-12-29T19:19:24.134512Z",
     "shell.execute_reply.started": "2023-12-29T19:19:21.065403Z"
    }
   },
   "outputs": [],
   "source": [
    "# RandomForestClassifier\n",
    "\n",
    "r_clf = RandomForestClassifier(max_features=0.5, max_depth=15, random_state=1)\n",
    "r_clf.fit(X, y)\n",
    "r_pred = r_clf.predict(X)\n",
    "r_probabilty = r_clf.predict_proba(X)\n",
    "\n",
    "r_acc = accuracy_score(y, r_pred)\n",
    "#accuracy_list.append(100*r_acc)\n",
    "accuracy_list = 100*r_acc"
   ]
  },
  {
   "cell_type": "code",
   "execution_count": 12,
   "metadata": {
    "execution": {
     "iopub.execute_input": "2023-12-29T19:19:24.137600Z",
     "iopub.status.busy": "2023-12-29T19:19:24.137255Z",
     "iopub.status.idle": "2023-12-29T19:19:24.144171Z",
     "shell.execute_reply": "2023-12-29T19:19:24.142822Z",
     "shell.execute_reply.started": "2023-12-29T19:19:24.137570Z"
    }
   },
   "outputs": [
    {
     "name": "stdout",
     "output_type": "stream",
     "text": [
      "Accuracy :  98.25426944971537\n"
     ]
    }
   ],
   "source": [
    "print(\"Accuracy : \",accuracy_list)"
   ]
  },
  {
   "cell_type": "code",
   "execution_count": 13,
   "metadata": {
    "execution": {
     "iopub.execute_input": "2023-12-29T19:19:24.147165Z",
     "iopub.status.busy": "2023-12-29T19:19:24.146329Z",
     "iopub.status.idle": "2023-12-29T19:19:24.159931Z",
     "shell.execute_reply": "2023-12-29T19:19:24.158479Z",
     "shell.execute_reply.started": "2023-12-29T19:19:24.147118Z"
    },
    "scrolled": true
   },
   "outputs": [
    {
     "name": "stdout",
     "output_type": "stream",
     "text": [
      "Log Loss:  0.15088120196000607\n"
     ]
    }
   ],
   "source": [
    "# Calculate log loss\n",
    "logloss = log_loss(y, r_probabilty)\n",
    "print(f'Log Loss: ', logloss)"
   ]
  },
  {
   "cell_type": "code",
   "execution_count": 14,
   "metadata": {
    "execution": {
     "iopub.execute_input": "2023-12-29T19:19:24.161882Z",
     "iopub.status.busy": "2023-12-29T19:19:24.161454Z",
     "iopub.status.idle": "2023-12-29T19:19:24.267224Z",
     "shell.execute_reply": "2023-12-29T19:19:24.266168Z",
     "shell.execute_reply.started": "2023-12-29T19:19:24.161849Z"
    }
   },
   "outputs": [],
   "source": [
    "y_predict = r_clf.predict_proba(X_test)\n",
    "#print(y_predict)"
   ]
  },
  {
   "cell_type": "code",
   "execution_count": 15,
   "metadata": {
    "execution": {
     "iopub.execute_input": "2023-12-29T19:19:24.269598Z",
     "iopub.status.busy": "2023-12-29T19:19:24.268938Z",
     "iopub.status.idle": "2023-12-29T19:19:24.281982Z",
     "shell.execute_reply": "2023-12-29T19:19:24.280527Z",
     "shell.execute_reply.started": "2023-12-29T19:19:24.269553Z"
    }
   },
   "outputs": [
    {
     "name": "stdout",
     "output_type": "stream",
     "text": [
      "           id  Status_C  Status_CL  Status_D\n",
      "0      7905.0  0.741331   0.029454  0.229216\n",
      "1      7906.0  0.744609   0.086693  0.168698\n",
      "2      7907.0  0.233333   0.070065  0.696602\n",
      "3      7908.0  0.873091   0.003527  0.123383\n",
      "4      7909.0  0.582465   0.083305  0.334231\n",
      "...       ...       ...        ...       ...\n",
      "5266  13171.0  0.793863   0.109116  0.097021\n",
      "5267  13172.0  0.927463   0.024103  0.048434\n",
      "5268  13173.0  0.887305   0.015418  0.097277\n",
      "5269  13174.0  0.976141   0.003699  0.020160\n",
      "5270  13175.0  0.219981   0.060750  0.719269\n",
      "\n",
      "[5271 rows x 4 columns]\n"
     ]
    }
   ],
   "source": [
    "result = np.column_stack((data_test.iloc[:, 0], y_predict))\n",
    "result = pd.DataFrame(result, columns=['id', 'Status_C', 'Status_CL', 'Status_D'])\n",
    "print(result)"
   ]
  },
  {
   "cell_type": "code",
   "execution_count": 16,
   "metadata": {},
   "outputs": [],
   "source": [
    "result[\"id\"] = result[\"id\"].apply(np.int32) # convert type of id to int"
   ]
  },
  {
   "cell_type": "code",
   "execution_count": 17,
   "metadata": {
    "execution": {
     "iopub.execute_input": "2023-12-29T19:19:24.283879Z",
     "iopub.status.busy": "2023-12-29T19:19:24.283363Z",
     "iopub.status.idle": "2023-12-29T19:19:24.345777Z",
     "shell.execute_reply": "2023-12-29T19:19:24.344643Z",
     "shell.execute_reply.started": "2023-12-29T19:19:24.283836Z"
    }
   },
   "outputs": [
    {
     "data": {
      "text/html": [
       "<div>\n",
       "<style scoped>\n",
       "    .dataframe tbody tr th:only-of-type {\n",
       "        vertical-align: middle;\n",
       "    }\n",
       "\n",
       "    .dataframe tbody tr th {\n",
       "        vertical-align: top;\n",
       "    }\n",
       "\n",
       "    .dataframe thead th {\n",
       "        text-align: right;\n",
       "    }\n",
       "</style>\n",
       "<table border=\"1\" class=\"dataframe\">\n",
       "  <thead>\n",
       "    <tr style=\"text-align: right;\">\n",
       "      <th></th>\n",
       "      <th>id</th>\n",
       "      <th>Status_C</th>\n",
       "      <th>Status_CL</th>\n",
       "      <th>Status_D</th>\n",
       "    </tr>\n",
       "  </thead>\n",
       "  <tbody>\n",
       "    <tr>\n",
       "      <th>0</th>\n",
       "      <td>7905</td>\n",
       "      <td>0.741331</td>\n",
       "      <td>0.029454</td>\n",
       "      <td>0.229216</td>\n",
       "    </tr>\n",
       "    <tr>\n",
       "      <th>1</th>\n",
       "      <td>7906</td>\n",
       "      <td>0.744609</td>\n",
       "      <td>0.086693</td>\n",
       "      <td>0.168698</td>\n",
       "    </tr>\n",
       "    <tr>\n",
       "      <th>2</th>\n",
       "      <td>7907</td>\n",
       "      <td>0.233333</td>\n",
       "      <td>0.070065</td>\n",
       "      <td>0.696602</td>\n",
       "    </tr>\n",
       "    <tr>\n",
       "      <th>3</th>\n",
       "      <td>7908</td>\n",
       "      <td>0.873091</td>\n",
       "      <td>0.003527</td>\n",
       "      <td>0.123383</td>\n",
       "    </tr>\n",
       "    <tr>\n",
       "      <th>4</th>\n",
       "      <td>7909</td>\n",
       "      <td>0.582465</td>\n",
       "      <td>0.083305</td>\n",
       "      <td>0.334231</td>\n",
       "    </tr>\n",
       "  </tbody>\n",
       "</table>\n",
       "</div>"
      ],
      "text/plain": [
       "     id  Status_C  Status_CL  Status_D\n",
       "0  7905  0.741331   0.029454  0.229216\n",
       "1  7906  0.744609   0.086693  0.168698\n",
       "2  7907  0.233333   0.070065  0.696602\n",
       "3  7908  0.873091   0.003527  0.123383\n",
       "4  7909  0.582465   0.083305  0.334231"
      ]
     },
     "execution_count": 17,
     "metadata": {},
     "output_type": "execute_result"
    }
   ],
   "source": [
    "result.to_csv('output.csv', index=False)\n",
    "result.head()"
   ]
  },
  {
   "cell_type": "code",
   "execution_count": null,
   "metadata": {},
   "outputs": [],
   "source": []
  }
 ],
 "metadata": {
  "kaggle": {
   "accelerator": "none",
   "dataSources": [
    {
     "databundleVersionId": 7000181,
     "sourceId": 60893,
     "sourceType": "competition"
    }
   ],
   "dockerImageVersionId": 30626,
   "isGpuEnabled": false,
   "isInternetEnabled": true,
   "language": "python",
   "sourceType": "notebook"
  },
  "kernelspec": {
   "display_name": "Python 3 (ipykernel)",
   "language": "python",
   "name": "python3"
  },
  "language_info": {
   "codemirror_mode": {
    "name": "ipython",
    "version": 3
   },
   "file_extension": ".py",
   "mimetype": "text/x-python",
   "name": "python",
   "nbconvert_exporter": "python",
   "pygments_lexer": "ipython3",
   "version": "3.11.5"
  }
 },
 "nbformat": 4,
 "nbformat_minor": 4
}
